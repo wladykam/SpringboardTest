{
 "cells": [
  {
   "cell_type": "markdown",
   "metadata": {},
   "source": [
    "This exercise will require you to pull some data from the Qunadl API. Qaundl is currently the most widely used aggregator of financial market data."
   ]
  },
  {
   "cell_type": "markdown",
   "metadata": {},
   "source": [
    "As a first step, you will need to register a free account on the http://www.quandl.com website."
   ]
  },
  {
   "cell_type": "markdown",
   "metadata": {},
   "source": [
    "After you register, you will be provided with a unique API key, that you should store:"
   ]
  },
  {
   "cell_type": "code",
   "execution_count": 1,
   "metadata": {},
   "outputs": [],
   "source": [
    "# Store the API key as a string - according to PEP8, constants are always named in all upper case\n",
    "API_KEY = 'your_api_key_here'"
   ]
  },
  {
   "cell_type": "markdown",
   "metadata": {},
   "source": [
    "Qaundl has a large number of data sources, but, unfortunately, most of them require a Premium subscription. Still, there are also a good number of free datasets."
   ]
  },
  {
   "cell_type": "markdown",
   "metadata": {},
   "source": [
    "For this mini project, we will focus on equities data from the Frankfurt Stock Exhange (FSE), which is available for free. We'll try and analyze the stock prices of a company called Carl Zeiss Meditec, which manufactures tools for eye examinations, as well as medical lasers for laser eye surgery: https://www.zeiss.com/meditec/int/home.html. The company is listed under the stock ticker AFX_X."
   ]
  },
  {
   "cell_type": "markdown",
   "metadata": {},
   "source": [
    "You can find the detailed Quandl API instructions here: https://docs.quandl.com/docs/time-series"
   ]
  },
  {
   "cell_type": "markdown",
   "metadata": {},
   "source": [
    "While there is a dedicated Python package for connecting to the Quandl API, we would prefer that you use the *requests* package, which can be easily downloaded using *pip* or *conda*. You can find the documentation for the package here: http://docs.python-requests.org/en/master/ "
   ]
  },
  {
   "cell_type": "markdown",
   "metadata": {},
   "source": [
    "Finally, apart from the *requests* package, you are encouraged to not use any third party Python packages, such as *pandas*, and instead focus on what's available in the Python Standard Library (the *collections* module might come in handy: https://pymotw.com/3/collections/ ).\n",
    "Also, since you won't have access to DataFrames, you are encouraged to us Python's native data structures - preferably dictionaries, though some questions can also be answered using lists.\n",
    "You can read more on these data structures here: https://docs.python.org/3/tutorial/datastructures.html"
   ]
  },
  {
   "cell_type": "markdown",
   "metadata": {},
   "source": [
    "Keep in mind that the JSON responses you will be getting from the API map almost one-to-one to Python's dictionaries. Unfortunately, they can be very nested, so make sure you read up on indexing dictionaries in the documentation provided above."
   ]
  },
  {
   "cell_type": "code",
   "execution_count": 2,
   "metadata": {},
   "outputs": [],
   "source": [
    "# First, import the relevant modules\n",
    "import requests\n"
   ]
  },
  {
   "cell_type": "code",
   "execution_count": 3,
   "metadata": {},
   "outputs": [
    {
     "name": "stdout",
     "output_type": "stream",
     "text": [
      "{\"dataset\":{\"id\":10095370,\"dataset_code\":\"AFX_X\",\"database_code\":\"FSE\",\"name\":\"Carl Zeiss Meditec (AFX_X)\",\"description\":\"Stock Prices for Carl Zeiss Meditec (2020-03-03) from the Frankfurt Stock Exchange.\\u003cbr\\u003e\\u003cbr\\u003eTrading System: Xetra\\u003cbr\\u003e\\u003cbr\\u003eISIN: DE0005313704\",\"refreshed_at\":\"2020-03-17T22:16:33.656Z\",\"newest_available_date\":\"2020-03-17\",\"oldest_available_date\":\"2000-06-07\",\"column_names\":[\"Date\",\"Open\",\"High\",\"Low\",\"Close\",\"Change\",\"Traded Volume\",\"Turnover\",\"Last Price of the Day\",\"Daily Traded Units\",\"Daily Turnover\"],\"frequency\":\"daily\",\"type\":\"Time Series\",\"premium\":false,\"limit\":null,\"transform\":null,\"column_index\":null,\"start_date\":\"2017-01-01\",\"end_date\":\"2017-01-02\",\"data\":[[\"2017-01-02\",34.99,35.94,34.99,35.8,null,44700.0,1590561.0,null,null,null]],\"collapse\":null,\"order\":null,\"database_id\":6129}}\n"
     ]
    }
   ],
   "source": [
    "# Now, call the Quandl API and pull out a small sample of the data (only one day) to get a glimpse\n",
    "# into the JSON structure that will be returned\n",
    "url = 'https://www.quandl.com/api/v3/datasets/FSE/AFX_X.json?'\n",
    "params=dict(api_key=API_KEY,start_date='2017-01-01',end_date='2017-01-02')\n",
    "res = requests.get(url, params = params)\n",
    "print(res.text)\n"
   ]
  },
  {
   "cell_type": "code",
   "execution_count": 4,
   "metadata": {},
   "outputs": [
    {
     "name": "stdout",
     "output_type": "stream",
     "text": [
      "<class 'requests.models.Response'>\n",
      "<class 'dict'>\n"
     ]
    }
   ],
   "source": [
    "print(type(res))\n",
    "json = res.json()\n",
    "print(type(json))"
   ]
  },
  {
   "cell_type": "code",
   "execution_count": 5,
   "metadata": {},
   "outputs": [
    {
     "name": "stdout",
     "output_type": "stream",
     "text": [
      "1\n",
      "11\n",
      "34.99\n"
     ]
    }
   ],
   "source": [
    "# Inspect the JSON structure of the object you created, and take note of how nested it is,\n",
    "# as well as the overall structure\n",
    "print(len(json))\n",
    "print(len(json['dataset']['column_names']))\n",
    "print(json['dataset']['data'][0][1])"
   ]
  },
  {
   "cell_type": "markdown",
   "metadata": {},
   "source": [
    "These are your tasks for this mini project:\n",
    "\n",
    "1. Collect data from the Franfurt Stock Exchange, for the ticker AFX_X, for the whole year 2017 (keep in mind that the date format is YYYY-MM-DD).\n",
    "2. Convert the returned JSON object into a Python dictionary.\n",
    "3. Calculate what the highest and lowest opening prices were for the stock in this period.\n",
    "4. What was the largest change in any one day (based on High and Low price)?\n",
    "5. What was the largest change between any two days (based on Closing Price)?\n",
    "6. What was the average daily trading volume during this year?\n",
    "7. (Optional) What was the median trading volume during this year. (Note: you may need to implement your own function for calculating the median.)"
   ]
  },
  {
   "cell_type": "code",
   "execution_count": 6,
   "metadata": {},
   "outputs": [],
   "source": [
    "#1)\n",
    "params=dict(api_key=API_KEY,start_date='2017-01-01',end_date='2017-12-31')\n",
    "res = requests.get(url, params = params)\n",
    "\n",
    "#2)\n",
    "json = res.json()\n"
   ]
  },
  {
   "cell_type": "code",
   "execution_count": 7,
   "metadata": {
    "scrolled": false
   },
   "outputs": [],
   "source": [
    "reverse_dates_list = []#json['dataset']['data'][0][0]\n",
    "reverse_open_list = []\n",
    "reverse_high_list = []\n",
    "reverse_low_list = []\n",
    "reverse_close_list = []\n",
    "reverse_traded_volume_list = []\n",
    "\n",
    "nonsense_list = json['dataset']['data']\n",
    "for item in nonsense_list:\n",
    "    reverse_dates_list.append(item[0])\n",
    "    reverse_open_list.append(item[1])\n",
    "    reverse_high_list.append(item[2])\n",
    "    reverse_low_list.append(item[3])\n",
    "    reverse_close_list.append(item[4])\n",
    "    reverse_traded_volume_list.append(item[6])\n",
    "dates_list = reverse_dates_list[::-1]\n",
    "open_list = reverse_open_list[::-1]\n",
    "high_list = reverse_high_list[::-1]\n",
    "low_list = reverse_low_list[::-1]\n",
    "close_list = reverse_close_list[::-1]\n",
    "traded_volume_list = reverse_traded_volume_list[::-1]\n",
    "#gets rid of null entries in traded_volume_list\n",
    "open_list = [item for item in open_list if item is not None]\n",
    "\n"
   ]
  },
  {
   "cell_type": "code",
   "execution_count": 8,
   "metadata": {},
   "outputs": [
    {
     "name": "stdout",
     "output_type": "stream",
     "text": [
      "53.11\n",
      "34.0\n"
     ]
    }
   ],
   "source": [
    "#3)\n",
    "highest_open_price = max(open_list)\n",
    "print(highest_open_price)\n",
    "lowest_open_price = min(open_list)\n",
    "print(lowest_open_price)"
   ]
  },
  {
   "cell_type": "code",
   "execution_count": 9,
   "metadata": {},
   "outputs": [
    {
     "name": "stdout",
     "output_type": "stream",
     "text": [
      "2.8100000000000023\n"
     ]
    }
   ],
   "source": [
    "#4)\n",
    "high_low_list = list(zip(high_list, low_list))\n",
    "high_low_diff = [item1 - item2 for item1, item2 in high_low_list]\n",
    "#high_low_diff_abs = [abs(diff) for diff in high_low_diff]\n",
    "#print(min(high_low_diff_abs))\n",
    "print(max(high_low_diff))"
   ]
  },
  {
   "cell_type": "code",
   "execution_count": 10,
   "metadata": {},
   "outputs": [
    {
     "name": "stdout",
     "output_type": "stream",
     "text": [
      "1.7199999999999989\n",
      "2.559999999999995\n"
     ]
    }
   ],
   "source": [
    "#5) Since the question just asks for the largest change in closing price, that would technically only mean\n",
    "#positive values. Since I assume the goal of the question was to get the largest absolute difference, I displayed\n",
    "#both values for this section\n",
    "close_diff_list =[]\n",
    "for i in range(len(close_list)+1):\n",
    "    if (i+1) < len(close_list):\n",
    "        close_diff_list.append(close_list[i+1] - close_list[i])\n",
    "abs_close_diff_list = [abs(diff) for diff in close_diff_list]\n",
    "print(max(close_diff_list))\n",
    "print(max(abs_close_diff_list))"
   ]
  },
  {
   "cell_type": "code",
   "execution_count": 11,
   "metadata": {},
   "outputs": [
    {
     "name": "stdout",
     "output_type": "stream",
     "text": [
      "89124.33725490196\n"
     ]
    }
   ],
   "source": [
    "#6)\n",
    "avg_daily_trading_volume = sum(traded_volume_list) / len(traded_volume_list)\n",
    "print(avg_daily_trading_volume)"
   ]
  },
  {
   "cell_type": "code",
   "execution_count": 12,
   "metadata": {},
   "outputs": [
    {
     "name": "stdout",
     "output_type": "stream",
     "text": [
      "56319.0\n"
     ]
    }
   ],
   "source": [
    "#7)\n",
    "traded_volume_list.sort()\n",
    "mid_index = len(traded_volume_list) / 2\n",
    "if mid_index % 2 == 0:\n",
    "    median_traded_volume = int((traded_volume_list[mid_index -1] + traded_volume_list[mid_index]) / 2)\n",
    "else:\n",
    "    median_traded_volume = traded_volume_list[int(mid_index // 2 + 1)]\n",
    "print(median_traded_volume)"
   ]
  }
 ],
 "metadata": {
  "kernelspec": {
   "display_name": "Python 3",
   "language": "python",
   "name": "python3"
  },
  "language_info": {
   "codemirror_mode": {
    "name": "ipython",
    "version": 3
   },
   "file_extension": ".py",
   "mimetype": "text/x-python",
   "name": "python",
   "nbconvert_exporter": "python",
   "pygments_lexer": "ipython3",
   "version": "3.7.4"
  }
 },
 "nbformat": 4,
 "nbformat_minor": 2
}
